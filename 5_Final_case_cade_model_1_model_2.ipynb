{
 "cells": [
  {
   "cell_type": "code",
   "execution_count": 6,
   "id": "e8c01fc3",
   "metadata": {},
   "outputs": [],
   "source": [
    "import pandas as pd \n",
    "import numpy as np\n",
    "import torch\n",
    "import torch.nn as nn\n",
    "from transformers import BertTokenizer, BertForSequenceClassification\n",
    "from sklearn.metrics import classification_report\n",
    "import sklearn.metrics as metrics\n",
    "import matplotlib.pyplot as plt"
   ]
  },
  {
   "cell_type": "markdown",
   "id": "a9d54521",
   "metadata": {},
   "source": [
    "### Cascading both model1 and model 2 together"
   ]
  },
  {
   "cell_type": "code",
   "execution_count": 2,
   "id": "224c6d38",
   "metadata": {},
   "outputs": [],
   "source": [
    "device = torch.device('cuda' if torch.cuda.is_available() else 'cpu')\n",
    "\n",
    "# Load BERT model tokenizer\n",
    "tokenizer = BertTokenizer.from_pretrained('bert-base-uncased')\n",
    "\n",
    "# Set max sequence length\n",
    "MAX_SEQ_LENGTH = 128\n",
    "\n",
    "class Model:\n",
    "    def load_model(self, load_path):\n",
    "        model = BertForSequenceClassification.from_pretrained('bert-base-uncased')\n",
    "        checkpoint = torch.load(load_path, map_location=device)\n",
    "        model.load_state_dict(checkpoint['model_state_dict'])\n",
    "        model = model.to(device)\n",
    "        model.eval()\n",
    "        print(f'Model loaded from <== {load_path}')\n",
    "        return model\n",
    "\n",
    "    def predict_sentiment(self, model, sentence):\n",
    "        tokens = tokenizer.encode_plus(\n",
    "            sentence,\n",
    "            max_length=MAX_SEQ_LENGTH,\n",
    "            truncation=True,\n",
    "            padding='max_length',\n",
    "            add_special_tokens=True,\n",
    "            return_token_type_ids=False,\n",
    "            return_attention_mask=True,\n",
    "            return_tensors='pt')\n",
    "        tokens = tokens.to(device)\n",
    "        with torch.no_grad():\n",
    "            outputs = model(tokens['input_ids'], token_type_ids=None, attention_mask=tokens['attention_mask'])\n",
    "        logits = outputs[0]\n",
    "        _, predicted = torch.max(logits, dim=1)\n",
    "        return predicted.item()\n",
    "\n",
    "    def predict_proba(self, data):\n",
    "        # Load Model and Evaluate\n",
    "        model1 = self.load_model('model_1.pt')\n",
    "        model2 = self.load_model('model_2.pt')\n",
    "\n",
    "        predictions=[]\n",
    "        for post in data:\n",
    "            result1=self.predict_sentiment(model1, post)\n",
    "            if result1==0:\n",
    "                predictions.append(0)\n",
    "            else:\n",
    "                result2=self.predict_sentiment(model2, post)\n",
    "                if result2==0:\n",
    "                    predictions.append(1)\n",
    "                else:\n",
    "                    predictions.append(2)\n",
    "        return np.array(predictions)\n",
    "\n",
    "# Instantiate the model\n",
    "model = Model()\n"
   ]
  },
  {
   "cell_type": "code",
   "execution_count": 3,
   "id": "807885fb",
   "metadata": {},
   "outputs": [
    {
     "name": "stderr",
     "output_type": "stream",
     "text": [
      "Some weights of the model checkpoint at bert-base-uncased were not used when initializing BertForSequenceClassification: ['cls.predictions.transform.dense.weight', 'cls.predictions.transform.dense.bias', 'cls.predictions.decoder.weight', 'cls.seq_relationship.bias', 'cls.predictions.transform.LayerNorm.bias', 'cls.predictions.transform.LayerNorm.weight', 'cls.seq_relationship.weight', 'cls.predictions.bias']\n",
      "- This IS expected if you are initializing BertForSequenceClassification from the checkpoint of a model trained on another task or with another architecture (e.g. initializing a BertForSequenceClassification model from a BertForPreTraining model).\n",
      "- This IS NOT expected if you are initializing BertForSequenceClassification from the checkpoint of a model that you expect to be exactly identical (initializing a BertForSequenceClassification model from a BertForSequenceClassification model).\n",
      "Some weights of BertForSequenceClassification were not initialized from the model checkpoint at bert-base-uncased and are newly initialized: ['classifier.weight', 'classifier.bias']\n",
      "You should probably TRAIN this model on a down-stream task to be able to use it for predictions and inference.\n"
     ]
    },
    {
     "name": "stdout",
     "output_type": "stream",
     "text": [
      "Model loaded from <== model_1.pt\n"
     ]
    },
    {
     "name": "stderr",
     "output_type": "stream",
     "text": [
      "Some weights of the model checkpoint at bert-base-uncased were not used when initializing BertForSequenceClassification: ['cls.predictions.transform.dense.weight', 'cls.predictions.transform.dense.bias', 'cls.predictions.decoder.weight', 'cls.seq_relationship.bias', 'cls.predictions.transform.LayerNorm.bias', 'cls.predictions.transform.LayerNorm.weight', 'cls.seq_relationship.weight', 'cls.predictions.bias']\n",
      "- This IS expected if you are initializing BertForSequenceClassification from the checkpoint of a model trained on another task or with another architecture (e.g. initializing a BertForSequenceClassification model from a BertForPreTraining model).\n",
      "- This IS NOT expected if you are initializing BertForSequenceClassification from the checkpoint of a model that you expect to be exactly identical (initializing a BertForSequenceClassification model from a BertForSequenceClassification model).\n",
      "Some weights of BertForSequenceClassification were not initialized from the model checkpoint at bert-base-uncased and are newly initialized: ['classifier.weight', 'classifier.bias']\n",
      "You should probably TRAIN this model on a down-stream task to be able to use it for predictions and inference.\n"
     ]
    },
    {
     "name": "stdout",
     "output_type": "stream",
     "text": [
      "Model loaded from <== model_2.pt\n",
      "Accuracy of model cascade: \n",
      "\n",
      "              precision    recall  f1-score   support\n",
      "\n",
      "           0      0.938     0.896     0.916       404\n",
      "           1      0.868     0.810     0.838       284\n",
      "           2      0.774     0.865     0.817       312\n",
      "\n",
      "    accuracy                          0.862      1000\n",
      "   macro avg      0.860     0.857     0.857      1000\n",
      "weighted avg      0.867     0.862     0.863      1000\n",
      "\n"
     ]
    }
   ],
   "source": [
    "# Read dataset in CSV format and convert to pandas dataframe\n",
    "test = pd.read_csv('test3.csv')\n",
    "\n",
    "predictions = model.predict_proba(test['review'][:1000])\n",
    "\n",
    "# Get user input for classification\n",
    "accuracy = metrics.classification_report(test['label'][:1000], predictions, digits=3)\n",
    "print('Accuracy of model cascade: \\n')\n",
    "print(accuracy)\n"
   ]
  },
  {
   "cell_type": "code",
   "execution_count": 7,
   "id": "a27a9ae5",
   "metadata": {},
   "outputs": [
    {
     "data": {
      "image/png": "[encoded data removed]",
      "text/plain": [
       "<Figure size 432x288 with 2 Axes>"
      ]
     },
     "metadata": {
      "needs_background": "light"
     },
     "output_type": "display_data"
    }
   ],
   "source": [
    "confusion_matrix = metrics.confusion_matrix(np.array(predictions),np.array(test['label'][:1000]))\n",
    "cm_display = metrics.ConfusionMatrixDisplay(confusion_matrix = confusion_matrix, display_labels = ['Normal', 'hate','offensive'])\n",
    "cm_display.plot()\n",
    "plt.show()"
   ]
  }
 ],
 "metadata": {
  "kernelspec": {
   "display_name": "Python 3",
   "language": "python",
   "name": "python3"
  },
  "language_info": {
   "codemirror_mode": {
    "name": "ipython",
    "version": 3
   },
   "file_extension": ".py",
   "mimetype": "text/x-python",
   "name": "python",
   "nbconvert_exporter": "python",
   "pygments_lexer": "ipython3",
   "version": "3.8.8"
  }
 },
 "nbformat": 4,
 "nbformat_minor": 5
}
