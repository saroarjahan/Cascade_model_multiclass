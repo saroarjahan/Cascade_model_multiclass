{
 "cells": [
  {
   "cell_type": "code",
   "execution_count": 1,
   "id": "d1eec7af",
   "metadata": {},
   "outputs": [],
   "source": [
    "# Libraries\n",
    "import pandas as pd \n",
    "import numpy as np\n",
    "import seaborn as sns \n",
    "import matplotlib.pyplot as plt \n",
    "from sklearn.model_selection import train_test_split\n",
    "import torch\n",
    "import torch.nn as nn\n",
    "from torchtext.data import Field,TabularDataset,BucketIterator,Iterator\n",
    "from transformers import BertTokenizer, BertForSequenceClassification\n",
    "from tqdm.notebook import tqdm_notebook as tqdm\n",
    "from sklearn.metrics import classification_report, confusion_matrix\n",
    "import gc\n",
    "gc.collect()\n",
    "torch.cuda.empty_cache()\n",
    "import warnings\n",
    "warnings.filterwarnings('ignore')\n",
    "import sklearn.metrics as metrics\n",
    "from sklearn.metrics import roc_auc_score, accuracy_score, classification_report"
   ]
  },
  {
   "cell_type": "code",
   "execution_count": 2,
   "id": "f8b0f947",
   "metadata": {},
   "outputs": [
    {
     "data": {
      "text/plain": [
       "device(type='cpu')"
      ]
     },
     "execution_count": 2,
     "metadata": {},
     "output_type": "execute_result"
    }
   ],
   "source": [
    "#  Check for CUDA\n",
    "import torch\n",
    "device = torch.device('cuda' if torch.cuda.is_available() else 'cpu')\n",
    "device"
   ]
  },
  {
   "cell_type": "code",
   "execution_count": 62,
   "id": "ad1352ec",
   "metadata": {},
   "outputs": [],
   "source": [
    "#test data\n",
    "test_model1 = pd.read_csv('splited_data/test_m1.csv')\n",
    "test_model2 = pd.read_csv('splited_data/test_m2.csv')\n",
    "test_cascade = pd.read_csv('splited_data/test3.csv') # this data will be used for both testing base line model and cas cade model"
   ]
  },
  {
   "cell_type": "code",
   "execution_count": 3,
   "id": "e9fc3556",
   "metadata": {},
   "outputs": [],
   "source": [
    "# load bert model tokenizer\n",
    "tokenizer = BertTokenizer.from_pretrained('bert-base-uncased')"
   ]
  },
  {
   "cell_type": "code",
   "execution_count": 4,
   "id": "21cbc494",
   "metadata": {},
   "outputs": [],
   "source": [
    "class ViolationBert(nn.Module):\n",
    "\n",
    "    def __init__(self):\n",
    "        super(ViolationBert,self).__init__()\n",
    "        self.encoder = BertForSequenceClassification.from_pretrained('bert-base-uncased')\n",
    "\n",
    "    def forward(self,text,label):\n",
    "        loss,text_features = self.encoder(text,labels = label)[:2]\n",
    "        return loss, text_features   "
   ]
  },
  {
   "cell_type": "code",
   "execution_count": 5,
   "id": "e5437d8b",
   "metadata": {},
   "outputs": [],
   "source": [
    "def load_checkpoint(load_path,model):\n",
    "    state_dict = torch.load(load_path,map_location= device)\n",
    "    print(f'Model loaded from <== {load_path}')\n",
    "    model.load_state_dict(state_dict['model_state_dict'])\n",
    "    return state_dict['valid_loss']"
   ]
  },
  {
   "cell_type": "code",
   "execution_count": 47,
   "id": "c9b257d3",
   "metadata": {},
   "outputs": [],
   "source": [
    "# set max sequence lentgh\n",
    "MAX_SEQ_LENGTH = 128\n",
    "PAD_INDEX = tokenizer.convert_tokens_to_ids(tokenizer.pad_token)\n",
    "UNK_INDEX = tokenizer.convert_tokens_to_ids(tokenizer.unk_token)"
   ]
  },
  {
   "cell_type": "code",
   "execution_count": 87,
   "id": "36939fe9",
   "metadata": {},
   "outputs": [],
   "source": [
    "#sentence prediction fucntion using trained model\n",
    "def predict_sentiment(model, sentence):\n",
    "    model.eval()\n",
    "    tokens = tokenizer.encode_plus(sentence, max_length=MAX_SEQ_LENGTH, truncation=True, padding='max_length', add_special_tokens=True, return_token_type_ids=False, return_attention_mask=True, return_tensors='pt').to(device)\n",
    "    labels = torch.tensor(0).unsqueeze(0).to(device)\n",
    "    outputs = model(tokens['input_ids'], labels)\n",
    "    _, predicted = torch.max(outputs[1], 1)\n",
    "    return predicted.item()"
   ]
  },
  {
   "cell_type": "markdown",
   "id": "6dfce430",
   "metadata": {},
   "source": [
    "### Model1 perforance of normal and hate/offensive class detection"
   ]
  },
  {
   "cell_type": "code",
   "execution_count": 70,
   "id": "e7c9229a",
   "metadata": {},
   "outputs": [
    {
     "name": "stderr",
     "output_type": "stream",
     "text": [
      "Some weights of the model checkpoint at bert-base-uncased were not used when initializing BertForSequenceClassification: ['cls.predictions.decoder.weight', 'cls.seq_relationship.bias', 'cls.seq_relationship.weight', 'cls.predictions.bias', 'cls.predictions.transform.LayerNorm.bias', 'cls.predictions.transform.LayerNorm.weight', 'cls.predictions.transform.dense.weight', 'cls.predictions.transform.dense.bias']\n",
      "- This IS expected if you are initializing BertForSequenceClassification from the checkpoint of a model trained on another task or with another architecture (e.g. initializing a BertForSequenceClassification model from a BertForPreTraining model).\n",
      "- This IS NOT expected if you are initializing BertForSequenceClassification from the checkpoint of a model that you expect to be exactly identical (initializing a BertForSequenceClassification model from a BertForSequenceClassification model).\n",
      "Some weights of BertForSequenceClassification were not initialized from the model checkpoint at bert-base-uncased and are newly initialized: ['classifier.weight', 'classifier.bias']\n",
      "You should probably TRAIN this model on a down-stream task to be able to use it for predictions and inference.\n"
     ]
    },
    {
     "name": "stdout",
     "output_type": "stream",
     "text": [
      "Model loaded from <== model/model1.pt\n"
     ]
    },
    {
     "data": {
      "text/plain": [
       "0.23836193405091763"
      ]
     },
     "execution_count": 70,
     "metadata": {},
     "output_type": "execute_result"
    }
   ],
   "source": [
    "# Load Model and Evaluate\n",
    "model1= ViolationBert().to(device)\n",
    "#your checkpoint location\n",
    "load_checkpoint('model/model1.pt',model1)\n",
    "\n"
   ]
  },
  {
   "cell_type": "code",
   "execution_count": 72,
   "id": "4e62cfb4",
   "metadata": {},
   "outputs": [],
   "source": [
    "# Example usage:\n",
    "predictions=[]\n",
    "for post in test_model1['review'][:100]:\n",
    "    predictions.append(predict_sentiment(model1, post))\n",
    "    "
   ]
  },
  {
   "cell_type": "code",
   "execution_count": 74,
   "id": "33ff3dfd",
   "metadata": {
    "scrolled": true
   },
   "outputs": [
    {
     "name": "stdout",
     "output_type": "stream",
     "text": [
      "Accuracy of model1: \n",
      "\n",
      "              precision    recall  f1-score   support\n",
      "\n",
      "           1      0.955     0.875     0.913        72\n",
      "           0      0.735     0.893     0.806        28\n",
      "\n",
      "    accuracy                          0.880       100\n",
      "   macro avg      0.845     0.884     0.860       100\n",
      "weighted avg      0.893     0.880     0.883       100\n",
      "\n"
     ]
    }
   ],
   "source": [
    "# accuracy calculation     \n",
    "accuracy = metrics.classification_report(np.array(predictions),np.array(test_model1['label'][:100]), labels=[1,0], digits=3)\n",
    "print('Accuracy of model1: \\n')\n",
    "print(accuracy)"
   ]
  },
  {
   "cell_type": "markdown",
   "id": "215e6411",
   "metadata": {},
   "source": [
    "### Model2 performance of  hate and offensive class detection"
   ]
  },
  {
   "cell_type": "code",
   "execution_count": 75,
   "id": "16cfd600",
   "metadata": {},
   "outputs": [
    {
     "name": "stderr",
     "output_type": "stream",
     "text": [
      "Some weights of the model checkpoint at bert-base-uncased were not used when initializing BertForSequenceClassification: ['cls.predictions.decoder.weight', 'cls.seq_relationship.bias', 'cls.seq_relationship.weight', 'cls.predictions.bias', 'cls.predictions.transform.LayerNorm.bias', 'cls.predictions.transform.LayerNorm.weight', 'cls.predictions.transform.dense.weight', 'cls.predictions.transform.dense.bias']\n",
      "- This IS expected if you are initializing BertForSequenceClassification from the checkpoint of a model trained on another task or with another architecture (e.g. initializing a BertForSequenceClassification model from a BertForPreTraining model).\n",
      "- This IS NOT expected if you are initializing BertForSequenceClassification from the checkpoint of a model that you expect to be exactly identical (initializing a BertForSequenceClassification model from a BertForSequenceClassification model).\n",
      "Some weights of BertForSequenceClassification were not initialized from the model checkpoint at bert-base-uncased and are newly initialized: ['classifier.weight', 'classifier.bias']\n",
      "You should probably TRAIN this model on a down-stream task to be able to use it for predictions and inference.\n"
     ]
    },
    {
     "name": "stdout",
     "output_type": "stream",
     "text": [
      "Model loaded from <== model/model2.pt\n"
     ]
    },
    {
     "data": {
      "text/plain": [
       "0.631134359609513"
      ]
     },
     "execution_count": 75,
     "metadata": {},
     "output_type": "execute_result"
    }
   ],
   "source": [
    "# Load Model and Evaluate\n",
    "model2= ViolationBert().to(device)\n",
    "#your checkpoint location\n",
    "load_checkpoint('model/model2.pt',model2)\n"
   ]
  },
  {
   "cell_type": "code",
   "execution_count": 76,
   "id": "bcd9b930",
   "metadata": {},
   "outputs": [],
   "source": [
    "# Example usage:\n",
    "predictions=[]\n",
    "for post in test_model2['review'][:100]:\n",
    "    predictions.append(predict_sentiment(model2, post))"
   ]
  },
  {
   "cell_type": "code",
   "execution_count": 78,
   "id": "48601462",
   "metadata": {},
   "outputs": [
    {
     "name": "stdout",
     "output_type": "stream",
     "text": [
      "Accuracy of model2: \n",
      "\n",
      "              precision    recall  f1-score   support\n",
      "\n",
      "           0      0.683     0.636     0.659        44\n",
      "           1      0.729     0.768     0.748        56\n",
      "\n",
      "    accuracy                          0.710       100\n",
      "   macro avg      0.706     0.702     0.703       100\n",
      "weighted avg      0.709     0.710     0.709       100\n",
      "\n"
     ]
    }
   ],
   "source": [
    "# accuracy calculation     \n",
    "accuracy = metrics.classification_report(np.array(predictions),np.array(test_model2['label'][:100]),  digits=3)\n",
    "print('Accuracy of model2: \\n')\n",
    "print(accuracy)"
   ]
  },
  {
   "cell_type": "code",
   "execution_count": 79,
   "id": "035418a7",
   "metadata": {},
   "outputs": [
    {
     "data": {
      "text/html": [
       "<div>\n",
       "<style scoped>\n",
       "    .dataframe tbody tr th:only-of-type {\n",
       "        vertical-align: middle;\n",
       "    }\n",
       "\n",
       "    .dataframe tbody tr th {\n",
       "        vertical-align: top;\n",
       "    }\n",
       "\n",
       "    .dataframe thead th {\n",
       "        text-align: right;\n",
       "    }\n",
       "</style>\n",
       "<table border=\"1\" class=\"dataframe\">\n",
       "  <thead>\n",
       "    <tr style=\"text-align: right;\">\n",
       "      <th></th>\n",
       "      <th>label</th>\n",
       "      <th>review</th>\n",
       "    </tr>\n",
       "  </thead>\n",
       "  <tbody>\n",
       "    <tr>\n",
       "      <th>0</th>\n",
       "      <td>1</td>\n",
       "      <td>treason lots of u up that way canada has the l...</td>\n",
       "    </tr>\n",
       "    <tr>\n",
       "      <th>1</th>\n",
       "      <td>0</td>\n",
       "      <td>catch woahs and pull hoes</td>\n",
       "    </tr>\n",
       "    <tr>\n",
       "      <th>2</th>\n",
       "      <td>1</td>\n",
       "      <td>it would be nice to see that judge get raped a...</td>\n",
       "    </tr>\n",
       "    <tr>\n",
       "      <th>3</th>\n",
       "      <td>0</td>\n",
       "      <td>the jewish question is probably the greatest l...</td>\n",
       "    </tr>\n",
       "    <tr>\n",
       "      <th>4</th>\n",
       "      <td>2</td>\n",
       "      <td>that white devil that killed the black man hon...</td>\n",
       "    </tr>\n",
       "    <tr>\n",
       "      <th>...</th>\n",
       "      <td>...</td>\n",
       "      <td>...</td>\n",
       "    </tr>\n",
       "    <tr>\n",
       "      <th>1995</th>\n",
       "      <td>0</td>\n",
       "      <td>getting non muslims to pronounce my name corre...</td>\n",
       "    </tr>\n",
       "    <tr>\n",
       "      <th>1996</th>\n",
       "      <td>0</td>\n",
       "      <td>gets arrested for saying nigger civic national...</td>\n",
       "    </tr>\n",
       "    <tr>\n",
       "      <th>1997</th>\n",
       "      <td>2</td>\n",
       "      <td>yeah that one was special he got really mad at...</td>\n",
       "    </tr>\n",
       "    <tr>\n",
       "      <th>1998</th>\n",
       "      <td>0</td>\n",
       "      <td>r u kidding it be all over the news lol media ...</td>\n",
       "    </tr>\n",
       "    <tr>\n",
       "      <th>1999</th>\n",
       "      <td>0</td>\n",
       "      <td>trump is white trash it embarrassing that anyo...</td>\n",
       "    </tr>\n",
       "  </tbody>\n",
       "</table>\n",
       "<p>2000 rows × 2 columns</p>\n",
       "</div>"
      ],
      "text/plain": [
       "      label                                             review\n",
       "0         1  treason lots of u up that way canada has the l...\n",
       "1         0                          catch woahs and pull hoes\n",
       "2         1  it would be nice to see that judge get raped a...\n",
       "3         0  the jewish question is probably the greatest l...\n",
       "4         2  that white devil that killed the black man hon...\n",
       "...     ...                                                ...\n",
       "1995      0  getting non muslims to pronounce my name corre...\n",
       "1996      0  gets arrested for saying nigger civic national...\n",
       "1997      2  yeah that one was special he got really mad at...\n",
       "1998      0  r u kidding it be all over the news lol media ...\n",
       "1999      0  trump is white trash it embarrassing that anyo...\n",
       "\n",
       "[2000 rows x 2 columns]"
      ]
     },
     "execution_count": 79,
     "metadata": {},
     "output_type": "execute_result"
    }
   ],
   "source": [
    "test_cascade"
   ]
  },
  {
   "cell_type": "markdown",
   "id": "9d40663c",
   "metadata": {},
   "source": [
    "### Cascading both model1 and model 2 together"
   ]
  },
  {
   "cell_type": "code",
   "execution_count": 85,
   "id": "f5c96013",
   "metadata": {},
   "outputs": [],
   "source": [
    "predictions=[]\n",
    "for post in test_cascade['review'][:100]:\n",
    "    result1=predict_sentiment(model1, post)\n",
    "    if result1==0:\n",
    "        predictions.append(0)\n",
    "    else:\n",
    "        result2=predict_sentiment(model2, post)\n",
    "        if result2==0:\n",
    "            predictions.append(1)\n",
    "        else:\n",
    "            predictions.append(2)\n"
   ]
  },
  {
   "cell_type": "code",
   "execution_count": 86,
   "id": "885b2f13",
   "metadata": {},
   "outputs": [
    {
     "name": "stdout",
     "output_type": "stream",
     "text": [
      "Accuracy of model1: \n",
      "\n",
      "              precision    recall  f1-score   support\n",
      "\n",
      "           0      0.860     0.925     0.892        40\n",
      "           1      0.833     0.758     0.794        33\n",
      "           2      0.667     0.667     0.667        27\n",
      "\n",
      "    accuracy                          0.800       100\n",
      "   macro avg      0.787     0.783     0.784       100\n",
      "weighted avg      0.799     0.800     0.799       100\n",
      "\n"
     ]
    }
   ],
   "source": [
    "# accuracy calculation     \n",
    "accuracy = metrics.classification_report(np.array(predictions),np.array(test_cascade['label'][:100]),  digits=3)\n",
    "print('Accuracy of model1: \\n')\n",
    "print(accuracy)"
   ]
  },
  {
   "cell_type": "code",
   "execution_count": 89,
   "id": "4f9f83da",
   "metadata": {},
   "outputs": [
    {
     "data": {
      "image/png": "[encoded data removed]",
      "text/plain": [
       "<Figure size 432x288 with 2 Axes>"
      ]
     },
     "metadata": {
      "needs_background": "light"
     },
     "output_type": "display_data"
    }
   ],
   "source": [
    "confusion_matrix = metrics.confusion_matrix(np.array(predictions),np.array(test_cascade['label'][:100]))\n",
    "cm_display = metrics.ConfusionMatrixDisplay(confusion_matrix = confusion_matrix, display_labels = ['Normal', 'hate','offensive'])\n",
    "cm_display.plot()\n",
    "plt.show()"
   ]
  }
 ],
 "metadata": {
  "kernelspec": {
   "display_name": "Python 3",
   "language": "python",
   "name": "python3"
  },
  "language_info": {
   "codemirror_mode": {
    "name": "ipython",
    "version": 3
   },
   "file_extension": ".py",
   "mimetype": "text/x-python",
   "name": "python",
   "nbconvert_exporter": "python",
   "pygments_lexer": "ipython3",
   "version": "3.8.8"
  }
 },
 "nbformat": 4,
 "nbformat_minor": 5
}
